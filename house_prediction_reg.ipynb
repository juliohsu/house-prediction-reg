{
  "metadata": {
    "kernelspec": {
      "language": "python",
      "display_name": "Python 3",
      "name": "python3"
    },
    "language_info": {
      "name": "python",
      "version": "3.10.14",
      "mimetype": "text/x-python",
      "codemirror_mode": {
        "name": "ipython",
        "version": 3
      },
      "pygments_lexer": "ipython3",
      "nbconvert_exporter": "python",
      "file_extension": ".py"
    },
    "kaggle": {
      "accelerator": "none",
      "dataSources": [
        {
          "sourceId": 5407,
          "databundleVersionId": 868283,
          "sourceType": "competition"
        }
      ],
      "dockerImageVersionId": 30761,
      "isInternetEnabled": false,
      "language": "python",
      "sourceType": "notebook",
      "isGpuEnabled": false
    },
    "colab": {
      "name": "house-prediction-reg",
      "provenance": [],
      "include_colab_link": true
    }
  },
  "nbformat_minor": 0,
  "nbformat": 4,
  "cells": [
    {
      "cell_type": "markdown",
      "metadata": {
        "id": "view-in-github",
        "colab_type": "text"
      },
      "source": [
        "<a href=\"https://colab.research.google.com/github/juliohsu/house-prediction-reg/blob/main/house_prediction_reg.ipynb\" target=\"_parent\"><img src=\"https://colab.research.google.com/assets/colab-badge.svg\" alt=\"Open In Colab\"/></a>"
      ]
    },
    {
      "source": [
        "\n",
        "# IMPORTANT: RUN THIS CELL IN ORDER TO IMPORT YOUR KAGGLE DATA SOURCES\n",
        "# TO THE CORRECT LOCATION (/kaggle/input) IN YOUR NOTEBOOK,\n",
        "# THEN FEEL FREE TO DELETE THIS CELL.\n",
        "# NOTE: THIS NOTEBOOK ENVIRONMENT DIFFERS FROM KAGGLE'S PYTHON\n",
        "# ENVIRONMENT SO THERE MAY BE MISSING LIBRARIES USED BY YOUR\n",
        "# NOTEBOOK.\n",
        "\n",
        "import os\n",
        "import sys\n",
        "from tempfile import NamedTemporaryFile\n",
        "from urllib.request import urlopen\n",
        "from urllib.parse import unquote, urlparse\n",
        "from urllib.error import HTTPError\n",
        "from zipfile import ZipFile\n",
        "import tarfile\n",
        "import shutil\n",
        "\n",
        "CHUNK_SIZE = 40960\n",
        "DATA_SOURCE_MAPPING = 'house-prices-advanced-regression-techniques:https%3A%2F%2Fstorage.googleapis.com%2Fkaggle-competitions-data%2Fkaggle-v2%2F5407%2F868283%2Fbundle%2Farchive.zip%3FX-Goog-Algorithm%3DGOOG4-RSA-SHA256%26X-Goog-Credential%3Dgcp-kaggle-com%2540kaggle-161607.iam.gserviceaccount.com%252F20240924%252Fauto%252Fstorage%252Fgoog4_request%26X-Goog-Date%3D20240924T232312Z%26X-Goog-Expires%3D259200%26X-Goog-SignedHeaders%3Dhost%26X-Goog-Signature%3Dae42fbda1ae94a97aebcf325d4a91153f54b971e06c8b3590b49f82d68f85768b1fa617f823c4b2adb48d6c5bcf3af6907cdb8c97345e0c5cde8fe853322ae2978880d2a4c0c96f59f1dd1bdc81cf15aef28e1e0a8d9a06e972f36d5bac21f6efd756ea6d16f85895e26fa74a9fd713b82de1bab9f3f3896d4a09cf8cb7a60afea85a3425cc0e4dbb809512a542dc67dbd433e4dc1e96e80c11a6822c0a05960f4f31d641f4f1cd6e7069c498c66fccf9dc9e0de43df27ff71e4f744ffcb0d43344f043fc7ed68e549349160f29be09bb710ce1940c57918171ed0ce0ceed4b065ad56f93429be67d6d8be0cf3b5875e79941acc0975197eea09e133100dd181'\n",
        "\n",
        "KAGGLE_INPUT_PATH='/kaggle/input'\n",
        "KAGGLE_WORKING_PATH='/kaggle/working'\n",
        "KAGGLE_SYMLINK='kaggle'\n",
        "\n",
        "!umount /kaggle/input/ 2> /dev/null\n",
        "shutil.rmtree('/kaggle/input', ignore_errors=True)\n",
        "os.makedirs(KAGGLE_INPUT_PATH, 0o777, exist_ok=True)\n",
        "os.makedirs(KAGGLE_WORKING_PATH, 0o777, exist_ok=True)\n",
        "\n",
        "try:\n",
        "  os.symlink(KAGGLE_INPUT_PATH, os.path.join(\"..\", 'input'), target_is_directory=True)\n",
        "except FileExistsError:\n",
        "  pass\n",
        "try:\n",
        "  os.symlink(KAGGLE_WORKING_PATH, os.path.join(\"..\", 'working'), target_is_directory=True)\n",
        "except FileExistsError:\n",
        "  pass\n",
        "\n",
        "for data_source_mapping in DATA_SOURCE_MAPPING.split(','):\n",
        "    directory, download_url_encoded = data_source_mapping.split(':')\n",
        "    download_url = unquote(download_url_encoded)\n",
        "    filename = urlparse(download_url).path\n",
        "    destination_path = os.path.join(KAGGLE_INPUT_PATH, directory)\n",
        "    try:\n",
        "        with urlopen(download_url) as fileres, NamedTemporaryFile() as tfile:\n",
        "            total_length = fileres.headers['content-length']\n",
        "            print(f'Downloading {directory}, {total_length} bytes compressed')\n",
        "            dl = 0\n",
        "            data = fileres.read(CHUNK_SIZE)\n",
        "            while len(data) > 0:\n",
        "                dl += len(data)\n",
        "                tfile.write(data)\n",
        "                done = int(50 * dl / int(total_length))\n",
        "                sys.stdout.write(f\"\\r[{'=' * done}{' ' * (50-done)}] {dl} bytes downloaded\")\n",
        "                sys.stdout.flush()\n",
        "                data = fileres.read(CHUNK_SIZE)\n",
        "            if filename.endswith('.zip'):\n",
        "              with ZipFile(tfile) as zfile:\n",
        "                zfile.extractall(destination_path)\n",
        "            else:\n",
        "              with tarfile.open(tfile.name) as tarfile:\n",
        "                tarfile.extractall(destination_path)\n",
        "            print(f'\\nDownloaded and uncompressed: {directory}')\n",
        "    except HTTPError as e:\n",
        "        print(f'Failed to load (likely expired) {download_url} to path {destination_path}')\n",
        "        continue\n",
        "    except OSError as e:\n",
        "        print(f'Failed to load {download_url} to path {destination_path}')\n",
        "        continue\n",
        "\n",
        "print('Data source import complete.')\n"
      ],
      "metadata": {
        "id": "M1egdyK5XCHD"
      },
      "cell_type": "code",
      "outputs": [],
      "execution_count": null
    },
    {
      "cell_type": "code",
      "source": [
        "# This Python 3 environment comes with many helpful analytics libraries installed\n",
        "# It is defined by the kaggle/python Docker image: https://github.com/kaggle/docker-python\n",
        "# For example, here's several helpful packages to load\n",
        "\n",
        "# Input data files are available in the read-only \"../input/\" directory\n",
        "# For example, running this (by clicking run or pressing Shift+Enter) will list all files under the input directory\n",
        "\n",
        "import os\n",
        "for dirname, _, filenames in os.walk('/kaggle/input'):\n",
        "    for filename in filenames:\n",
        "        print(os.path.join(dirname, filename))\n",
        "\n",
        "# You can write up to 20GB to the current directory (/kaggle/working/) that gets preserved as output when you create a version using \"Save & Run All\"\n",
        "# You can also write temporary files to /kaggle/temp/, but they won't be saved outside of the current session"
      ],
      "metadata": {
        "_uuid": "8f2839f25d086af736a60e9eeb907d3b93b6e0e5",
        "_cell_guid": "b1076dfc-b9ad-4769-8c92-a6c4dae69d19",
        "execution": {
          "iopub.status.busy": "2024-09-24T23:10:42.400011Z",
          "iopub.execute_input": "2024-09-24T23:10:42.400481Z",
          "iopub.status.idle": "2024-09-24T23:10:42.409071Z",
          "shell.execute_reply.started": "2024-09-24T23:10:42.400437Z",
          "shell.execute_reply": "2024-09-24T23:10:42.40804Z"
        },
        "trusted": true,
        "id": "ihmwhjHfXCHH"
      },
      "execution_count": null,
      "outputs": []
    },
    {
      "cell_type": "markdown",
      "source": [
        "# Data Visualization & Exploration"
      ],
      "metadata": {
        "id": "xGSkbfy6XCHI"
      }
    },
    {
      "cell_type": "code",
      "source": [
        "import pandas as pd\n",
        "\n",
        "# load dataset\n",
        "X = pd.read_csv('/kaggle/input/house-prices-advanced-regression-techniques/train.csv')\n",
        "X_test = pd.read_csv('/kaggle/input/house-prices-advanced-regression-techniques/test.csv')"
      ],
      "metadata": {
        "execution": {
          "iopub.status.busy": "2024-09-24T23:10:42.422699Z",
          "iopub.execute_input": "2024-09-24T23:10:42.42375Z",
          "iopub.status.idle": "2024-09-24T23:10:42.481137Z",
          "shell.execute_reply.started": "2024-09-24T23:10:42.423702Z",
          "shell.execute_reply": "2024-09-24T23:10:42.479789Z"
        },
        "trusted": true,
        "id": "1uqHS9JLXCHK"
      },
      "execution_count": null,
      "outputs": []
    },
    {
      "cell_type": "code",
      "source": [
        "# overview dataframe and its types\n",
        "X.info()"
      ],
      "metadata": {
        "execution": {
          "iopub.status.busy": "2024-09-24T23:10:42.48317Z",
          "iopub.execute_input": "2024-09-24T23:10:42.483568Z",
          "iopub.status.idle": "2024-09-24T23:10:42.509968Z",
          "shell.execute_reply.started": "2024-09-24T23:10:42.483528Z",
          "shell.execute_reply": "2024-09-24T23:10:42.508825Z"
        },
        "trusted": true,
        "id": "fYxs_uLLXCHN"
      },
      "execution_count": null,
      "outputs": []
    },
    {
      "cell_type": "code",
      "source": [
        "# overview train dataframe and its values\n",
        "pd.set_option('display.max_columns', None)\n",
        "X.head(5)"
      ],
      "metadata": {
        "execution": {
          "iopub.status.busy": "2024-09-24T23:10:42.527848Z",
          "iopub.execute_input": "2024-09-24T23:10:42.528334Z",
          "iopub.status.idle": "2024-09-24T23:10:42.589095Z",
          "shell.execute_reply.started": "2024-09-24T23:10:42.528289Z",
          "shell.execute_reply": "2024-09-24T23:10:42.58785Z"
        },
        "trusted": true,
        "id": "AzIaU-oMXCHO"
      },
      "execution_count": null,
      "outputs": []
    },
    {
      "cell_type": "code",
      "source": [
        "X_test.head(5)"
      ],
      "metadata": {
        "execution": {
          "iopub.status.busy": "2024-09-24T23:10:42.597831Z",
          "iopub.execute_input": "2024-09-24T23:10:42.598274Z",
          "iopub.status.idle": "2024-09-24T23:10:42.667648Z",
          "shell.execute_reply.started": "2024-09-24T23:10:42.598231Z",
          "shell.execute_reply": "2024-09-24T23:10:42.666228Z"
        },
        "trusted": true,
        "id": "b0bqRvujXCHQ"
      },
      "execution_count": null,
      "outputs": []
    },
    {
      "cell_type": "markdown",
      "source": [
        "# Data Preprocessing (Handle Missing Value)"
      ],
      "metadata": {
        "id": "cSEWc1GJXCHR"
      }
    },
    {
      "cell_type": "code",
      "source": [
        "# show percentage of features missing values\n",
        "cat_missing = X.isnull().sum()\n",
        "cat_total = X.isnull().count()\n",
        "cat_miss_percent = cat_missing / cat_total\n",
        "df_missing = pd.DataFrame(\n",
        "    cat_miss_percent,\n",
        "    columns=['Missing Value']\n",
        ").sort_values(\n",
        "    by='Missing Value',\n",
        "    ascending=False\n",
        ")\n",
        "\n",
        "df_missing.head(20)"
      ],
      "metadata": {
        "execution": {
          "iopub.status.busy": "2024-09-24T23:10:42.669661Z",
          "iopub.execute_input": "2024-09-24T23:10:42.670066Z",
          "iopub.status.idle": "2024-09-24T23:10:42.704819Z",
          "shell.execute_reply.started": "2024-09-24T23:10:42.670024Z",
          "shell.execute_reply": "2024-09-24T23:10:42.703747Z"
        },
        "trusted": true,
        "id": "0EG4njNKXCHS"
      },
      "execution_count": null,
      "outputs": []
    },
    {
      "cell_type": "code",
      "source": [
        "# drop some of the most missing values features columns\n",
        "most_miss_col = df_missing[df_missing['Missing Value'] > 0.06].index\n",
        "#X = X.drop(columns=most_miss_col)\n",
        "#X_test = X_test.drop(columns=most_miss_col)\n",
        "\n",
        "X_test.info()"
      ],
      "metadata": {
        "execution": {
          "iopub.status.busy": "2024-09-24T23:10:42.706334Z",
          "iopub.execute_input": "2024-09-24T23:10:42.706893Z",
          "iopub.status.idle": "2024-09-24T23:10:42.734219Z",
          "shell.execute_reply.started": "2024-09-24T23:10:42.706849Z",
          "shell.execute_reply": "2024-09-24T23:10:42.732969Z"
        },
        "trusted": true,
        "id": "CybPjAI1XCHT"
      },
      "execution_count": null,
      "outputs": []
    },
    {
      "cell_type": "code",
      "source": [
        "# select numeric features\n",
        "num_col = X.select_dtypes(exclude=['object'])\n",
        "\n",
        "num_col.isnull().sum().sort_values(ascending=False).head(20)"
      ],
      "metadata": {
        "execution": {
          "iopub.status.busy": "2024-09-24T23:10:42.736749Z",
          "iopub.execute_input": "2024-09-24T23:10:42.737197Z",
          "iopub.status.idle": "2024-09-24T23:10:42.749363Z",
          "shell.execute_reply.started": "2024-09-24T23:10:42.737146Z",
          "shell.execute_reply": "2024-09-24T23:10:42.748157Z"
        },
        "trusted": true,
        "id": "0LdszmxFXCHU"
      },
      "execution_count": null,
      "outputs": []
    },
    {
      "cell_type": "code",
      "source": [
        "from sklearn.impute import SimpleImputer\n",
        "\n",
        "# convert numeric features nan values into mean values\n",
        "num_imputer = SimpleImputer(strategy='median')\n",
        "num_imputer.fit(num_col)\n",
        "num_impute_train = num_imputer.transform(num_col)\n",
        "num_col = pd.DataFrame(num_impute_train, columns=num_col.columns)\n",
        "X[num_col.columns] = num_col\n",
        "X_test[num_col.columns] = num_col\n",
        "\n",
        "num_col.isnull().sum().sort_values(ascending=False).head(20)"
      ],
      "metadata": {
        "execution": {
          "iopub.status.busy": "2024-09-24T23:10:42.750897Z",
          "iopub.execute_input": "2024-09-24T23:10:42.751317Z",
          "iopub.status.idle": "2024-09-24T23:10:42.799014Z",
          "shell.execute_reply.started": "2024-09-24T23:10:42.751275Z",
          "shell.execute_reply": "2024-09-24T23:10:42.797709Z"
        },
        "trusted": true,
        "id": "09d1XuOKXCHU"
      },
      "execution_count": null,
      "outputs": []
    },
    {
      "cell_type": "code",
      "source": [
        "# select categorical feature\n",
        "cat_col = X.select_dtypes(include=['object'])\n",
        "\n",
        "cat_col.isnull().sum().sort_values(ascending=False).head(20)"
      ],
      "metadata": {
        "execution": {
          "iopub.status.busy": "2024-09-24T23:10:42.80053Z",
          "iopub.execute_input": "2024-09-24T23:10:42.800931Z",
          "iopub.status.idle": "2024-09-24T23:10:42.819944Z",
          "shell.execute_reply.started": "2024-09-24T23:10:42.80089Z",
          "shell.execute_reply": "2024-09-24T23:10:42.81866Z"
        },
        "trusted": true,
        "id": "lqSNawibXCHV"
      },
      "execution_count": null,
      "outputs": []
    },
    {
      "cell_type": "code",
      "source": [
        "# convert categorical features nan values into mode values\n",
        "cat_imputer = SimpleImputer(strategy='most_frequent')\n",
        "cat_imputer.fit(cat_col)\n",
        "cat_impute_train = cat_imputer.transform(cat_col)\n",
        "cat_col = pd.DataFrame(cat_impute_train, columns=cat_col.columns)\n",
        "X[cat_col.columns] = cat_col\n",
        "X_test[cat_col.columns] = cat_col\n",
        "\n",
        "cat_col.isnull().sum().sort_values(ascending=False).head(20)"
      ],
      "metadata": {
        "execution": {
          "iopub.status.busy": "2024-09-24T23:10:42.823085Z",
          "iopub.execute_input": "2024-09-24T23:10:42.823619Z",
          "iopub.status.idle": "2024-09-24T23:10:42.88972Z",
          "shell.execute_reply.started": "2024-09-24T23:10:42.823547Z",
          "shell.execute_reply": "2024-09-24T23:10:42.888349Z"
        },
        "trusted": true,
        "id": "hyJuSiv5XCHV"
      },
      "execution_count": null,
      "outputs": []
    },
    {
      "cell_type": "code",
      "source": [
        "# check for the dataset\n",
        "X_test.info()"
      ],
      "metadata": {
        "execution": {
          "iopub.status.busy": "2024-09-24T23:10:42.891625Z",
          "iopub.execute_input": "2024-09-24T23:10:42.892011Z",
          "iopub.status.idle": "2024-09-24T23:10:42.928066Z",
          "shell.execute_reply.started": "2024-09-24T23:10:42.891973Z",
          "shell.execute_reply": "2024-09-24T23:10:42.926608Z"
        },
        "trusted": true,
        "id": "-fN8G6IkXCHV"
      },
      "execution_count": null,
      "outputs": []
    },
    {
      "cell_type": "markdown",
      "source": [
        "\n",
        "# Data Preprocessing (Feature Engineering)"
      ],
      "metadata": {
        "id": "-XG3_iLcXCHW"
      }
    },
    {
      "cell_type": "code",
      "source": [
        "# overview dataset again to remove unnecessary features\n",
        "X"
      ],
      "metadata": {
        "execution": {
          "iopub.status.busy": "2024-09-24T23:10:42.930942Z",
          "iopub.execute_input": "2024-09-24T23:10:42.931499Z",
          "iopub.status.idle": "2024-09-24T23:10:43.055985Z",
          "shell.execute_reply.started": "2024-09-24T23:10:42.931401Z",
          "shell.execute_reply": "2024-09-24T23:10:43.054749Z"
        },
        "trusted": true,
        "id": "Wk7T9DkJXCHW"
      },
      "execution_count": null,
      "outputs": []
    },
    {
      "cell_type": "code",
      "source": [
        "# combining interesting features\n",
        "def combine_features(df):\n",
        "    df['TotalLivArea'] = df['GrLivArea'] + df['TotalBsmtSF'] + df['1stFlrSF'] + df['2ndFlrSF']\n",
        "    df['TotalBath'] = df['FullBath'] + (0.5 * df['HalfBath']) + df['BsmtFullBath'] + (0.5 * df['BsmtHalfBath'])\n",
        "    df['GarageScore'] = df['GarageCars'] + df['GarageArea'] / 100\n",
        "    return df\n",
        "\n",
        "X = combine_features(X)\n",
        "X_test = combine_features(X_test)\n",
        "\n",
        "X"
      ],
      "metadata": {
        "execution": {
          "iopub.status.busy": "2024-09-24T23:10:43.05776Z",
          "iopub.execute_input": "2024-09-24T23:10:43.058244Z",
          "iopub.status.idle": "2024-09-24T23:10:43.198716Z",
          "shell.execute_reply.started": "2024-09-24T23:10:43.05819Z",
          "shell.execute_reply": "2024-09-24T23:10:43.197597Z"
        },
        "trusted": true,
        "id": "ph0qcUSgXCHW"
      },
      "execution_count": null,
      "outputs": []
    },
    {
      "cell_type": "code",
      "source": [
        "# overview dataset to check for unnecessary features\n",
        "unnecessary_features = [\n",
        "                        'Street', 'Utilities', 'LandSlope',\n",
        "                        'Condition1', 'Condition2',\n",
        "                        'RoofMatl', 'Exterior2nd', 'ExterCond',\n",
        "                        'Heating', 'Electrical',\n",
        "                        'MoSold', 'SaleCondition'\n",
        "                       ]\n",
        "\n",
        "X = X.drop(columns=unnecessary_features)\n",
        "X_test = X_test.drop(columns=unnecessary_features)\n",
        "X"
      ],
      "metadata": {
        "execution": {
          "iopub.status.busy": "2024-09-24T23:10:43.200547Z",
          "iopub.execute_input": "2024-09-24T23:10:43.201046Z",
          "iopub.status.idle": "2024-09-24T23:10:43.329334Z",
          "shell.execute_reply.started": "2024-09-24T23:10:43.200987Z",
          "shell.execute_reply": "2024-09-24T23:10:43.327923Z"
        },
        "trusted": true,
        "id": "2m8YGTMjXCHX"
      },
      "execution_count": null,
      "outputs": []
    },
    {
      "cell_type": "code",
      "source": [
        "# categorical overview target feature correlation\n",
        "cat_col = X.select_dtypes(include=['object'])"
      ],
      "metadata": {
        "execution": {
          "iopub.status.busy": "2024-09-24T23:10:43.332613Z",
          "iopub.execute_input": "2024-09-24T23:10:43.333082Z",
          "iopub.status.idle": "2024-09-24T23:10:43.341785Z",
          "shell.execute_reply.started": "2024-09-24T23:10:43.333041Z",
          "shell.execute_reply": "2024-09-24T23:10:43.340376Z"
        },
        "trusted": true,
        "id": "MDnkqCzXXCHX"
      },
      "execution_count": null,
      "outputs": []
    },
    {
      "cell_type": "code",
      "source": [
        "# numeric overview target feature correlation\n",
        "corr_X = X.corr(numeric_only=True)\n",
        "corr_Xtarget = corr_X['SalePrice']\n",
        "\n",
        "corr_Xtarget"
      ],
      "metadata": {
        "execution": {
          "iopub.status.busy": "2024-09-24T23:10:43.343564Z",
          "iopub.execute_input": "2024-09-24T23:10:43.344112Z",
          "iopub.status.idle": "2024-09-24T23:10:43.374469Z",
          "shell.execute_reply.started": "2024-09-24T23:10:43.344056Z",
          "shell.execute_reply": "2024-09-24T23:10:43.373299Z"
        },
        "trusted": true,
        "id": "FIJ2qrG8XCHX"
      },
      "execution_count": null,
      "outputs": []
    },
    {
      "cell_type": "code",
      "source": [
        "import matplotlib.pyplot as plt\n",
        "import seaborn as sns\n",
        "\n",
        "# plot target feature correlation\n",
        "plt.figure(figsize=(12, 8))\n",
        "sns.heatmap(corr_X[['SalePrice']], annot=True, cmap='coolwarm')\n",
        "plt.title('SalePrice Correlation')\n",
        "plt.show()"
      ],
      "metadata": {
        "execution": {
          "iopub.status.busy": "2024-09-24T23:10:43.375979Z",
          "iopub.execute_input": "2024-09-24T23:10:43.376392Z",
          "iopub.status.idle": "2024-09-24T23:10:44.198896Z",
          "shell.execute_reply.started": "2024-09-24T23:10:43.376351Z",
          "shell.execute_reply": "2024-09-24T23:10:44.197653Z"
        },
        "trusted": true,
        "id": "jert0dRCXCHX"
      },
      "execution_count": null,
      "outputs": []
    },
    {
      "cell_type": "code",
      "source": [
        "# filter out unnecessary features columns\n",
        "unnecessary_col = corr_Xtarget[abs(corr_Xtarget) < 0.1].index.tolist()\n",
        "X = X.drop(columns=unnecessary_col)\n",
        "X_test = X_test.drop(columns=unnecessary_col)\n",
        "X"
      ],
      "metadata": {
        "execution": {
          "iopub.status.busy": "2024-09-24T23:10:44.200356Z",
          "iopub.execute_input": "2024-09-24T23:10:44.2008Z",
          "iopub.status.idle": "2024-09-24T23:10:44.305197Z",
          "shell.execute_reply.started": "2024-09-24T23:10:44.200755Z",
          "shell.execute_reply": "2024-09-24T23:10:44.303905Z"
        },
        "trusted": true,
        "id": "qBohsetAXCHY"
      },
      "execution_count": null,
      "outputs": []
    },
    {
      "cell_type": "markdown",
      "source": [
        "# Data Preprocessing (Data Transformation)"
      ],
      "metadata": {
        "id": "NyxZMqDVXCHY"
      }
    },
    {
      "cell_type": "code",
      "source": [
        "import numpy as np\n",
        "\n",
        "# separate the target feature and reduce its skewness\n",
        "y = X['SalePrice']\n",
        "X = X.drop(columns=['SalePrice'])\n",
        "y = np.log1p(y)\n",
        "y"
      ],
      "metadata": {
        "execution": {
          "iopub.status.busy": "2024-09-24T23:10:44.306952Z",
          "iopub.execute_input": "2024-09-24T23:10:44.307317Z",
          "iopub.status.idle": "2024-09-24T23:10:44.323873Z",
          "shell.execute_reply.started": "2024-09-24T23:10:44.307279Z",
          "shell.execute_reply": "2024-09-24T23:10:44.322583Z"
        },
        "trusted": true,
        "id": "x9Dl1t15XCHY"
      },
      "execution_count": null,
      "outputs": []
    },
    {
      "cell_type": "markdown",
      "source": [
        "# Data Preprocessing (Data Scaling)"
      ],
      "metadata": {
        "id": "32PD2gcVXCHY"
      }
    },
    {
      "cell_type": "code",
      "source": [
        "# check for the dataset its types\n",
        "X.info()"
      ],
      "metadata": {
        "execution": {
          "iopub.status.busy": "2024-09-24T23:10:44.325487Z",
          "iopub.execute_input": "2024-09-24T23:10:44.32693Z",
          "iopub.status.idle": "2024-09-24T23:10:44.358995Z",
          "shell.execute_reply.started": "2024-09-24T23:10:44.326886Z",
          "shell.execute_reply": "2024-09-24T23:10:44.357687Z"
        },
        "trusted": true,
        "id": "dKy4zYdTXCHZ"
      },
      "execution_count": null,
      "outputs": []
    },
    {
      "cell_type": "code",
      "source": [
        "from sklearn.preprocessing import StandardScaler, OneHotEncoder\n",
        "from sklearn.compose import ColumnTransformer\n",
        "from sklearn.pipeline import Pipeline\n",
        "\n",
        "# identify numeric and categorical features\n",
        "numFT_X = X.select_dtypes(include=['int64', 'float64']).columns\n",
        "catFT_X = X.select_dtypes(exclude=['int64', 'float64']).columns\n",
        "\n",
        "# pipeline for data scaling\n",
        "scaling = ColumnTransformer(\n",
        "    transformers=[\n",
        "        ('num', StandardScaler(), numFT_X),\n",
        "        ('cat', OneHotEncoder(sparse_output=False, handle_unknown='ignore'), catFT_X)\n",
        "    ]\n",
        ")"
      ],
      "metadata": {
        "execution": {
          "iopub.status.busy": "2024-09-24T23:10:44.361163Z",
          "iopub.execute_input": "2024-09-24T23:10:44.361555Z",
          "iopub.status.idle": "2024-09-24T23:10:44.376251Z",
          "shell.execute_reply.started": "2024-09-24T23:10:44.361516Z",
          "shell.execute_reply": "2024-09-24T23:10:44.374436Z"
        },
        "trusted": true,
        "id": "_3Zd5RbGXCHZ"
      },
      "execution_count": null,
      "outputs": []
    },
    {
      "cell_type": "markdown",
      "source": [
        "# Data Splitting"
      ],
      "metadata": {
        "id": "jgPRba3CXCHa"
      }
    },
    {
      "cell_type": "code",
      "source": [
        "from sklearn.model_selection import train_test_split\n",
        "\n",
        "# let's split the dataset 80% training and 20% validation\n",
        "bins = pd.cut(y, bins=5, labels=False)\n",
        "X_train, X_val, y_train, y_val = train_test_split(X, y, train_size=0.80, random_state=42)\n",
        "\n",
        "# plot splitted data\n",
        "plt.figure(figsize=(12, 8))\n",
        "plt.scatter(X.iloc[:,0], y, color='gray', alpha=0.2, label='Original Data', s=10)\n",
        "plt.scatter(X_train.iloc[:,0], y_train, color='blue', alpha=0.6, label='Training Data', s=10)\n",
        "plt.scatter(X_val.iloc[:,0], y_val, color='red', alpha=0.6, label='Validation Data', s=10)\n",
        "\n",
        "plt.title('Scatter Plot of Splitted Data Distribution')\n",
        "plt.xlabel('Features')\n",
        "plt.ylabel('Sale Price')\n",
        "plt.show()"
      ],
      "metadata": {
        "execution": {
          "iopub.status.busy": "2024-09-24T23:10:44.377919Z",
          "iopub.execute_input": "2024-09-24T23:10:44.378703Z",
          "iopub.status.idle": "2024-09-24T23:10:44.750016Z",
          "shell.execute_reply.started": "2024-09-24T23:10:44.37865Z",
          "shell.execute_reply": "2024-09-24T23:10:44.748678Z"
        },
        "trusted": true,
        "id": "MxcD78XdXCHa"
      },
      "execution_count": null,
      "outputs": []
    },
    {
      "cell_type": "markdown",
      "source": [
        "# Model Training"
      ],
      "metadata": {
        "id": "Evs2x4upXCHa"
      }
    },
    {
      "cell_type": "code",
      "source": [
        "print(X.columns)"
      ],
      "metadata": {
        "execution": {
          "iopub.status.busy": "2024-09-24T23:10:44.75432Z",
          "iopub.execute_input": "2024-09-24T23:10:44.754785Z",
          "iopub.status.idle": "2024-09-24T23:10:44.762176Z",
          "shell.execute_reply.started": "2024-09-24T23:10:44.754739Z",
          "shell.execute_reply": "2024-09-24T23:10:44.760751Z"
        },
        "trusted": true,
        "id": "Vu3GX748XCHb"
      },
      "execution_count": null,
      "outputs": []
    },
    {
      "cell_type": "code",
      "source": [
        "from sklearn.linear_model import LinearRegression\n",
        "\n",
        "# linear model pipeline\n",
        "linear_pipeline = Pipeline(\n",
        "    steps = [\n",
        "        ('preprocessor', scaling),\n",
        "        ('linear', LinearRegression())\n",
        "    ]\n",
        ")\n",
        "\n",
        "# fit the data into the pipeline\n",
        "linear_pipeline.fit(X_train, y_train)"
      ],
      "metadata": {
        "execution": {
          "iopub.status.busy": "2024-09-24T23:10:44.763837Z",
          "iopub.execute_input": "2024-09-24T23:10:44.764236Z",
          "iopub.status.idle": "2024-09-24T23:10:44.912685Z",
          "shell.execute_reply.started": "2024-09-24T23:10:44.764195Z",
          "shell.execute_reply": "2024-09-24T23:10:44.911492Z"
        },
        "trusted": true,
        "id": "3nR7qPGVXCHb"
      },
      "execution_count": null,
      "outputs": []
    },
    {
      "cell_type": "code",
      "source": [
        "from sklearn.metrics import mean_squared_error\n",
        "\n",
        "# predict fitted model\n",
        "y_pred = linear_pipeline.predict(X_val)\n",
        "\n",
        "# mean squared error from the dataset and predicted\n",
        "mse = mean_squared_error(y_val, y_pred)\n",
        "\n",
        "np.sqrt(mse)"
      ],
      "metadata": {
        "execution": {
          "iopub.status.busy": "2024-09-24T23:10:44.914055Z",
          "iopub.execute_input": "2024-09-24T23:10:44.923899Z",
          "iopub.status.idle": "2024-09-24T23:10:44.96096Z",
          "shell.execute_reply.started": "2024-09-24T23:10:44.923841Z",
          "shell.execute_reply": "2024-09-24T23:10:44.959643Z"
        },
        "trusted": true,
        "id": "o842dTB7XCHc"
      },
      "execution_count": null,
      "outputs": []
    },
    {
      "cell_type": "markdown",
      "source": [
        "# Submission"
      ],
      "metadata": {
        "id": "oWqbnj5DXCHd"
      }
    },
    {
      "cell_type": "code",
      "source": [
        "test_file_path = \"../input/house-prices-advanced-regression-techniques/test.csv\"\n",
        "test_data = pd.read_csv(test_file_path)\n",
        "test_data['Id'] = test_data['Id'].astype(int)\n",
        "ids = test_data.pop('Id')\n",
        "\n",
        "test_pred = linear_pipeline.predict(X_test)\n",
        "\n",
        "pd.DataFrame({\n",
        "    'Id': ids,\n",
        "    'SalePrice': np.exp(test_pred)\n",
        "}).to_csv('/kaggle/working/submission.csv', index=False)"
      ],
      "metadata": {
        "execution": {
          "iopub.status.busy": "2024-09-24T23:10:44.963561Z",
          "iopub.execute_input": "2024-09-24T23:10:44.964666Z",
          "iopub.status.idle": "2024-09-24T23:10:45.096619Z",
          "shell.execute_reply.started": "2024-09-24T23:10:44.964559Z",
          "shell.execute_reply": "2024-09-24T23:10:45.09497Z"
        },
        "trusted": true,
        "id": "PAmscSVCXCHe"
      },
      "execution_count": null,
      "outputs": []
    }
  ]
}